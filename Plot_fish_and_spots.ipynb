{
 "cells": [
  {
   "cell_type": "code",
   "execution_count": null,
   "id": "82ea8ede",
   "metadata": {},
   "outputs": [],
   "source": []
  },
  {
   "cell_type": "code",
   "execution_count": 10,
   "id": "5f0553fe",
   "metadata": {
    "scrolled": false
   },
   "outputs": [
    {
     "name": "stdout",
     "output_type": "stream",
     "text": [
      "Requirement already satisfied: tifffile in /home/tom/anaconda3/lib/python3.8/site-packages (2022.3.25)\n",
      "Requirement already satisfied: numpy>=1.19.2 in /home/tom/anaconda3/lib/python3.8/site-packages (from tifffile) (1.20.3)\n",
      "\u001b[33mWARNING: Error parsing requirements for googledrivedownloader: [Errno 2] No such file or directory: '/home/tom/anaconda3/lib/python3.8/site-packages/googledrivedownloader-0.4.dist-info/METADATA'\u001b[0m\n",
      "\u001b[33mWARNING: You are using pip version 21.3; however, version 23.1.2 is available.\n",
      "You should consider upgrading via the '/home/tom/anaconda3/bin/python -m pip install --upgrade pip' command.\u001b[0m\n",
      "Collecting pathlib\n",
      "  Using cached pathlib-1.0.1-py3-none-any.whl (14 kB)\n",
      "\u001b[33mWARNING: Error parsing requirements for googledrivedownloader: [Errno 2] No such file or directory: '/home/tom/anaconda3/lib/python3.8/site-packages/googledrivedownloader-0.4.dist-info/METADATA'\u001b[0m\n",
      "Installing collected packages: pathlib\n",
      "Successfully installed pathlib-1.0.1\n",
      "\u001b[33mWARNING: You are using pip version 21.3; however, version 23.1.2 is available.\n",
      "You should consider upgrading via the '/home/tom/anaconda3/bin/python -m pip install --upgrade pip' command.\u001b[0m\n"
     ]
    }
   ],
   "source": [
    "#!pip install napari \n",
    "!pip install tifffile\n",
    "!pip install pathlib\n",
    "# uncomment those lines if you need to install napari, tifffile ect.."
   ]
  },
  {
   "cell_type": "code",
   "execution_count": 11,
   "id": "3e85cf46",
   "metadata": {},
   "outputs": [],
   "source": [
    "import numpy as np \n",
    "import napari\n",
    "import tifffile\n",
    "from pathlib import Path"
   ]
  },
  {
   "cell_type": "code",
   "execution_count": 23,
   "id": "afdd62e7",
   "metadata": {},
   "outputs": [
    {
     "name": "stdout",
     "output_type": "stream",
     "text": [
      "r1_pos1_ch0.tif\n",
      "r1_Cy3\n"
     ]
    }
   ],
   "source": [
    "# MODIFY PATH HERE TO THE IMAGE YOU WANT TO SEE \n",
    "####################\n",
    "path_to_spots_dico = \"/media/tom/Transcend/lustr2023/images/23mai_dico_dico_commu_local_detect_cy5_removal.npy\"\n",
    "\n",
    "path_to_image = \"/media/tom/Transcend/lustr2023/images/r1_Cy3/r1_pos1_ch0.tif\"\n",
    "###################\n",
    "\n",
    "\n",
    "\n",
    "image = tifffile.imread(path_to_image)\n",
    "spots_dico = np.load(path_to_spots_dico,\n",
    "                             allow_pickle = True).item()\n",
    "\n",
    "image_name = Path(path_to_image).name\n",
    "image_round = path_to_image.split('/')[-2]\n",
    "print(image_name)\n",
    "print(image_round)\n",
    "\n"
   ]
  },
  {
   "cell_type": "code",
   "execution_count": 22,
   "id": "6b63c73f",
   "metadata": {},
   "outputs": [
    {
     "ename": "KeyError",
     "evalue": "'r1_Cy5'",
     "output_type": "error",
     "traceback": [
      "\u001b[0;31m---------------------------------------------------------------------------\u001b[0m",
      "\u001b[0;31mKeyError\u001b[0m                                  Traceback (most recent call last)",
      "\u001b[0;32m<ipython-input-22-93c2ef125ae0>\u001b[0m in \u001b[0;36m<module>\u001b[0;34m\u001b[0m\n\u001b[0;32m----> 1\u001b[0;31m \u001b[0mspots_array\u001b[0m \u001b[0;34m=\u001b[0m  \u001b[0mspots_dico\u001b[0m\u001b[0;34m[\u001b[0m\u001b[0mimage_round\u001b[0m\u001b[0;34m]\u001b[0m\u001b[0;34m[\u001b[0m\u001b[0mimage_name\u001b[0m\u001b[0;34m]\u001b[0m\u001b[0;34m\u001b[0m\u001b[0;34m\u001b[0m\u001b[0m\n\u001b[0m\u001b[1;32m      2\u001b[0m \u001b[0;34m\u001b[0m\u001b[0m\n\u001b[1;32m      3\u001b[0m \u001b[0;34m\u001b[0m\u001b[0m\n\u001b[1;32m      4\u001b[0m \u001b[0;34m\u001b[0m\u001b[0m\n\u001b[1;32m      5\u001b[0m \u001b[0mviewer\u001b[0m \u001b[0;34m=\u001b[0m  \u001b[0mnapari\u001b[0m\u001b[0;34m.\u001b[0m\u001b[0mviewer\u001b[0m\u001b[0;34m.\u001b[0m\u001b[0mViewer\u001b[0m\u001b[0;34m(\u001b[0m\u001b[0;34m)\u001b[0m\u001b[0;34m\u001b[0m\u001b[0;34m\u001b[0m\u001b[0m\n",
      "\u001b[0;31mKeyError\u001b[0m: 'r1_Cy5'"
     ]
    }
   ],
   "source": [
    "spots_array =  spots_dico[image_round][image_name]\n",
    "\n",
    "\n",
    "\n",
    "viewer =  napari.viewer.Viewer()\n",
    "\n",
    "viewer.add_image(image, name='rna')\n",
    "#viewer.add_image(img_dapi, name='rna')\n",
    "\n",
    "viewer.add_points(spots_array, name='spots',\n",
    "                  face_color='red', edge_color='red', size=5)\n"
   ]
  },
  {
   "cell_type": "code",
   "execution_count": null,
   "id": "ff3cf79f",
   "metadata": {},
   "outputs": [],
   "source": []
  },
  {
   "cell_type": "code",
   "execution_count": 20,
   "id": "a2fc6931",
   "metadata": {},
   "outputs": [
    {
     "data": {
      "text/plain": [
       "<Image layer 'R9 Fibin' at 0x7f83692b5df0>"
      ]
     },
     "execution_count": 20,
     "metadata": {},
     "output_type": "execute_result"
    }
   ],
   "source": [
    "\n",
    "path_to_image = \"/media/tom/Transcend/lustr2023/images/r1_Cy3/r1_pos1_ch0.tif\"\n",
    "###################\n",
    "\n",
    "\n",
    "\n",
    "image = tifffile.imread(path_to_image)\n",
    "viewer.add_image(image, name='R1 Rtkn2')\n",
    "#viewer.add_image(img_dapi, name='rna')\n",
    "\n",
    "\n",
    "\n",
    "path_to_image = \"/media/tom/Transcend/lustr2023/images/r2/r2_pos1_ch0.tif\"\n",
    "###################\n",
    "\n",
    "\n",
    "\n",
    "image = tifffile.imread(path_to_image)\n",
    "viewer.add_image(image, name='R2 lamp3')\n",
    "\n",
    "\n",
    "\n",
    "path_to_image = \"/media/tom/Transcend/lustr2023/images/r9/r9_pos1_ch0.tif\"\n",
    "###################\n",
    "\n",
    "\n",
    "\n",
    "image = tifffile.imread(path_to_image)\n",
    "viewer.add_image(image, name='R9 Fibin')\n"
   ]
  },
  {
   "cell_type": "code",
   "execution_count": null,
   "id": "7aa1e110",
   "metadata": {},
   "outputs": [],
   "source": []
  },
  {
   "cell_type": "code",
   "execution_count": null,
   "id": "f393a17b",
   "metadata": {},
   "outputs": [],
   "source": [
    "\n",
    "dico_bc_gene1 = {\n",
    "    'r1_Cy3': \"Rtkn2\",\n",
    "    'r2': \"Lamp3\",\n",
    "    'r3': \"Ptprb\",\n",
    "    'r4': \"Pecam1\",\n",
    "    'r5': \"Ptprb\",\n",
    "    'r6': \"Pdgfra\",\n",
    "    'r7': \"Chil3\",\n",
    "    \"r8\": \"Apln\",\n",
    "    \"r9\": \"Fibin\",\n",
    "    \"r10\": \"Pon1\",\n",
    "    \"r11\": \"Cyp2s1\",\n",
    "    \"r12\": \"C3ar1\",\n",
    "    \"r13\": \"Hhip\","
   ]
  },
  {
   "cell_type": "code",
   "execution_count": null,
   "id": "42597bce",
   "metadata": {},
   "outputs": [],
   "source": []
  },
  {
   "cell_type": "code",
   "execution_count": null,
   "id": "746d1f1e",
   "metadata": {},
   "outputs": [],
   "source": []
  },
  {
   "cell_type": "code",
   "execution_count": null,
   "id": "b37a48ef",
   "metadata": {},
   "outputs": [],
   "source": []
  },
  {
   "cell_type": "code",
   "execution_count": null,
   "id": "e6f5147b",
   "metadata": {},
   "outputs": [],
   "source": []
  }
 ],
 "metadata": {
  "kernelspec": {
   "display_name": "bigfish38_samm",
   "language": "python",
   "name": "bigfish38_samm"
  },
  "language_info": {
   "codemirror_mode": {
    "name": "ipython",
    "version": 3
   },
   "file_extension": ".py",
   "mimetype": "text/x-python",
   "name": "python",
   "nbconvert_exporter": "python",
   "pygments_lexer": "ipython3",
   "version": "3.8.12"
  }
 },
 "nbformat": 4,
 "nbformat_minor": 5
}
