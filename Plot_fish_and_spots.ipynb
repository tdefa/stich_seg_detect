{
 "cells": [
  {
   "cell_type": "code",
   "execution_count": null,
   "id": "82ea8ede",
   "metadata": {},
   "outputs": [],
   "source": []
  },
  {
   "cell_type": "code",
   "execution_count": 4,
   "id": "5f0553fe",
   "metadata": {
    "scrolled": false
   },
   "outputs": [
    {
     "name": "stdout",
     "output_type": "stream",
     "text": [
      "Requirement already satisfied: tifffile in /home/tom/anaconda3/envs/bigfish38_samm/lib/python3.8/site-packages (2021.10.12)\n",
      "Requirement already satisfied: numpy>=1.15.1 in /home/tom/anaconda3/envs/bigfish38_samm/lib/python3.8/site-packages (from tifffile) (1.22.4)\n",
      "Collecting pathlib\n",
      "  Downloading pathlib-1.0.1-py3-none-any.whl (14 kB)\n",
      "Installing collected packages: pathlib\n",
      "Successfully installed pathlib-1.0.1\n"
     ]
    }
   ],
   "source": [
    "#!pip install napari \n",
    "!pip install tifffile\n",
    "!pip install pathlib\n",
    "# uncomment those lines if you need to install napari, tifffile ect.."
   ]
  },
  {
   "cell_type": "code",
   "execution_count": 5,
   "id": "3e85cf46",
   "metadata": {},
   "outputs": [],
   "source": [
    "import numpy as np \n",
    "import napari\n",
    "import tifffile\n",
    "from pathlib import Path"
   ]
  },
  {
   "cell_type": "code",
   "execution_count": 6,
   "id": "afdd62e7",
   "metadata": {},
   "outputs": [
    {
     "name": "stdout",
     "output_type": "stream",
     "text": [
      "r1_pos13_ch0.tif\n",
      "r1_Cy3\n"
     ]
    }
   ],
   "source": [
    "# MODIFY PATH HERE TO THE IMAGE YOU WANT TO SEE \n",
    "####################\n",
    "path_to_spots_dico = \"/media/tom/Transcend/lustr2023/images/23mai_dico_spots_local_detection0.npy\"\n",
    "\n",
    "path_to_image = \"/media/tom/Transcend/lustr2023/images/r1_Cy3/r1_pos13_ch0.tif\"\n",
    "###################\n",
    "\n",
    "\n",
    "\n",
    "image = tifffile.imread(path_to_image)\n",
    "spots_dico = np.load(path_to_spots_dico,\n",
    "                             allow_pickle = True).item()\n",
    "\n",
    "image_name = Path(path_to_image).name\n",
    "image_round = path_to_image.split('/')[-2]\n",
    "print(image_name)\n",
    "print(image_round)\n",
    "\n"
   ]
  },
  {
   "cell_type": "code",
   "execution_count": 9,
   "id": "6b63c73f",
   "metadata": {},
   "outputs": [
    {
     "data": {
      "text/plain": [
       "<Points layer 'spots' at 0x7fdcd6796850>"
      ]
     },
     "execution_count": 9,
     "metadata": {},
     "output_type": "execute_result"
    }
   ],
   "source": [
    "spots_array =  spots_dico[image_round][image_name]\n",
    "\n",
    "\n",
    "\n",
    "viewer =  napari.viewer.Viewer()\n",
    "\n",
    "viewer.add_image(image, name='rna')\n",
    "#viewer.add_image(img_dapi, name='rna')\n",
    "\n",
    "viewer.add_points(spots_array, name='spots',\n",
    "                  face_color='red', edge_color='red', size=5)\n"
   ]
  },
  {
   "cell_type": "code",
   "execution_count": null,
   "id": "ff3cf79f",
   "metadata": {},
   "outputs": [],
   "source": []
  },
  {
   "cell_type": "code",
   "execution_count": null,
   "id": "a2fc6931",
   "metadata": {},
   "outputs": [],
   "source": []
  },
  {
   "cell_type": "code",
   "execution_count": null,
   "id": "7aa1e110",
   "metadata": {},
   "outputs": [],
   "source": []
  },
  {
   "cell_type": "code",
   "execution_count": null,
   "id": "f393a17b",
   "metadata": {},
   "outputs": [],
   "source": []
  },
  {
   "cell_type": "code",
   "execution_count": null,
   "id": "42597bce",
   "metadata": {},
   "outputs": [],
   "source": []
  },
  {
   "cell_type": "code",
   "execution_count": null,
   "id": "746d1f1e",
   "metadata": {},
   "outputs": [],
   "source": []
  },
  {
   "cell_type": "code",
   "execution_count": null,
   "id": "b37a48ef",
   "metadata": {},
   "outputs": [],
   "source": []
  },
  {
   "cell_type": "code",
   "execution_count": null,
   "id": "e6f5147b",
   "metadata": {},
   "outputs": [],
   "source": []
  }
 ],
 "metadata": {
  "kernelspec": {
   "display_name": "bigfish38_samm",
   "language": "python",
   "name": "bigfish38_samm"
  },
  "language_info": {
   "codemirror_mode": {
    "name": "ipython",
    "version": 3
   },
   "file_extension": ".py",
   "mimetype": "text/x-python",
   "name": "python",
   "nbconvert_exporter": "python",
   "pygments_lexer": "ipython3",
   "version": "3.8.12"
  }
 },
 "nbformat": 4,
 "nbformat_minor": 5
}
